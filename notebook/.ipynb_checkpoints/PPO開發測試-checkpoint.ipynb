{
 "cells": [
  {
   "cell_type": "code",
   "execution_count": 1,
   "metadata": {},
   "outputs": [],
   "source": [
    "import torch\n",
    "from torch import nn\n",
    "from torch.nn import functional as F\n",
    "from torch.distributions import Categorical\n",
    "from torch import optim\n",
    "from torch import nn\n",
    "from collections import deque\n",
    "import numpy as np\n",
    "import random\n",
    "import warnings \n",
    "warnings.simplefilter('ignore')"
   ]
  },
  {
   "cell_type": "markdown",
   "metadata": {},
   "source": [
    "# model"
   ]
  },
  {
   "cell_type": "code",
   "execution_count": 2,
   "metadata": {},
   "outputs": [],
   "source": [
    "class critic(nn.Module):\n",
    "    def __init__(self, input_dim):# state -> value\n",
    "        super(critic, self).__init__()\n",
    "        self.fc1 = nn.Linear(input_dim,128)\n",
    "        self.fc2 = nn.Linear(128,1) \n",
    "\n",
    "    def forward(self, state):\n",
    "        value = F.relu(self.fc1(state))\n",
    "        value = self.fc2(value)\n",
    "        return value\n",
    "\n",
    "class actor(nn.Module):\n",
    "    def __init__(self, input_dim, output_dim):# state -> action_probs\n",
    "        super(actor, self).__init__()\n",
    "        self.fc1 = nn.Linear(input_dim,128)\n",
    "        self.fc2 = nn.Linear(128, output_dim)\n",
    "    \n",
    "    def forward(self, state):\n",
    "        logits = F.relu(self.fc1(state))\n",
    "        logits = self.fc2(logits)*10\n",
    "        return F.softmax(logits,dim=-1)"
   ]
  },
  {
   "cell_type": "markdown",
   "metadata": {},
   "source": [
    "# utils"
   ]
  },
  {
   "cell_type": "code",
   "execution_count": 3,
   "metadata": {},
   "outputs": [],
   "source": [
    "class BasicBuffer:\n",
    "\n",
    "    def __init__(self, max_size):\n",
    "        self.max_size = int(max_size)\n",
    "        self.buffer = deque(maxlen=int(max_size))\n",
    "\n",
    "    def push(self, state, action, reward, next_state, done):\n",
    "        experience = (state, action, np.array([reward]), next_state, done)\n",
    "        self.buffer.append(experience)\n",
    "\n",
    "    def sample(self, batch_size):\n",
    "        state_batch = []\n",
    "        action_batch = []\n",
    "        reward_batch = []\n",
    "        next_state_batch = []\n",
    "        done_batch = []\n",
    "\n",
    "        batch = random.sample(self.buffer, batch_size)\n",
    "\n",
    "        for experience in batch:\n",
    "            state, action, reward, next_state, done = experience\n",
    "            state_batch.append(state)\n",
    "            action_batch.append(action)\n",
    "            reward_batch.append(reward)\n",
    "            next_state_batch.append(next_state)\n",
    "            done_batch.append(done)\n",
    "\n",
    "        return (state_batch, action_batch, reward_batch, next_state_batch, done_batch)\n",
    "\n",
    "    def __len__(self):\n",
    "        return len(self.buffer)"
   ]
  },
  {
   "cell_type": "markdown",
   "metadata": {},
   "source": [
    "# agent"
   ]
  },
  {
   "cell_type": "code",
   "execution_count": 4,
   "metadata": {},
   "outputs": [],
   "source": [
    "class PPOAgent:\n",
    "    def __init__(self,env,gamma=0.99,lr=1e-3,clip=0.2,K_epoch=4,buffer_maxsize=100000):\n",
    "        self.device = \"cpu\"\n",
    "        \n",
    "        # env\n",
    "        self.env = env\n",
    "        self.obs_dim = env.observation_space.shape[0]\n",
    "        self.action_dim = env.action_space.n\n",
    "        \n",
    "        # Hyperparamters\n",
    "        self.gamma = gamma\n",
    "        self.lr = lr\n",
    "        self.clip = clip\n",
    "        self.K_epoch = K_epoch\n",
    "        \n",
    "        # critic,init\n",
    "        self.critic = critic(self.obs_dim)\n",
    "        self.critic.apply(self._weights_init)\n",
    "        \n",
    "        # actor_new,init\n",
    "        self.actor_new = actor(self.obs_dim,self.action_dim)\n",
    "        self.actor_new.apply(self._weights_init)\n",
    "        \n",
    "        # actor_old,sync\n",
    "        self.actor_old = actor(self.obs_dim,self.action_dim)\n",
    "        self.sync()\n",
    "        \n",
    "        # opt\n",
    "        self.actor_optimizer = optim.Adam(self.actor_new.parameters(),lr=lr)\n",
    "        self.critic_optimizer = optim.Adam(self.critic.parameters(),lr=lr)\n",
    "        \n",
    "        # replay buffer\n",
    "        self.replay_buffer = BasicBuffer(max_size=buffer_maxsize)\n",
    "        \n",
    "        # recorder\n",
    "        self.recorder = {'a_loss':[],\n",
    "                         'v_loss':[],\n",
    "                         'ratio':[]}\n",
    "            \n",
    "    @staticmethod\n",
    "    def _weights_init(m):\n",
    "        if isinstance(m, nn.Conv2d):\n",
    "            nn.init.xavier_uniform_(m.weight)\n",
    "            nn.init.constant_(m.bias, 0.1)\n",
    "    \n",
    "    def sync(self):\n",
    "        for old_param, new_param in zip(self.actor_old.parameters(),self.actor_new.parameters()):\n",
    "            old_param.data.copy_(new_param.data)\n",
    "\n",
    "    def get_action(self, state):\n",
    "        state = torch.FloatTensor(state).to(self.device)\n",
    "        probs = self.actor_new.forward(state) # softmax_probs\n",
    "        dist = Categorical(probs) # Categorical distribution\n",
    "        act = dist.sample() # smaple action from this Categorical distribution\n",
    "        return act.detach().item()\n",
    "\n",
    "    def get_value(state):\n",
    "        state = torch.FloatTensor(state).to(self.device)\n",
    "        value = self.critic(state)\n",
    "        return value.item()\n",
    "\n",
    "    def update(self,batch_size=64):\n",
    "        for k in range(self.K_epoch):\n",
    "            \n",
    "            # sample mini_batch_data from replay_buffer\n",
    "            s,a,r,s_,d = self.replay_buffer.sample(batch_size)\n",
    "            s = torch.FloatTensor(s).to(self.device)\n",
    "            a = torch.LongTensor(a).to(self.device).unsqueeze(dim=1)\n",
    "            r = torch.FloatTensor(r).to(self.device)\n",
    "            s_ = torch.FloatTensor(s_).to(self.device)\n",
    "            d = torch.FloatTensor(d).to(self.device).unsqueeze(dim=1)\n",
    "            \n",
    "            # calculate critic loss\n",
    "            v_target = r + self.gamma*self.critic(s_)*(1-d)\n",
    "            v_current = self.critic(s)\n",
    "            adv =  v_target - v_current\n",
    "            v_loss = 0.5*(adv**2).mean()\n",
    "            self.recorder['v_loss'].append(v_loss.item())\n",
    "            \n",
    "            # calculate actor loss\n",
    "            new_p = torch.gather(self.actor_new(s),1,a)\n",
    "            old_p = torch.gather(self.actor_old(s),1,a)\n",
    "            ratio = new_p / (old_p + 1e-8)\n",
    "            self.recorder['ratio'].append(ratio.detach().numpy())\n",
    "            adv = (adv - adv.mean()) / (adv.std() + 1e-8)\n",
    "            surr1 = ratio*adv.detach()\n",
    "            surr2 = torch.clamp(ratio,1-self.clip,1+self.clip)*adv.detach()\n",
    "            a_loss = -torch.min(surr1,surr2).mean()\n",
    "            self.recorder['a_loss'].append(a_loss.item())\n",
    "            \n",
    "            # update critic\n",
    "            self.critic_optimizer.zero_grad()\n",
    "            v_loss.backward()\n",
    "            self.critic_optimizer.step()\n",
    "            \n",
    "            # update actor\n",
    "            self.actor_optimizer.zero_grad()\n",
    "            a_loss.backward()\n",
    "            self.actor_optimizer.step()\n",
    "        \n",
    "        # sync\n",
    "        self.sync()\n",
    "            \n",
    "    def train(self, max_episodes=100,max_steps=10000, batch_size=256):\n",
    "        episode_rewards = []\n",
    "        for episode in range(max_episodes):\n",
    "            state = self.env.reset()\n",
    "            episode_reward = 0\n",
    "            for step in range(max_steps):\n",
    "                action = self.get_action([state])\n",
    "                next_state, reward, done, _ = self.env.step(action) \n",
    "                self.replay_buffer.push(state, action, reward, next_state, done)\n",
    "                episode_reward += reward\n",
    "                \n",
    "                if len(self.replay_buffer) >= batch_size:\n",
    "                    self.update(batch_size)\n",
    "                    \n",
    "                if done or step == max_steps-1:\n",
    "                    episode_rewards.append(episode_reward)\n",
    "                    print(\"Episode \" + str(episode) + \": \" + str(episode_reward))\n",
    "                    break\n",
    "                \n",
    "                state = next_state\n",
    "        \n",
    "        return episode_rewards"
   ]
  },
  {
   "cell_type": "code",
   "execution_count": 5,
   "metadata": {},
   "outputs": [
    {
     "name": "stdout",
     "output_type": "stream",
     "text": [
      "Episode 0: 10.0\n",
      "Episode 1: 18.0\n",
      "Episode 2: 12.0\n",
      "Episode 3: 9.0\n",
      "Episode 4: 21.0\n",
      "Episode 5: 14.0\n",
      "Episode 6: 13.0\n",
      "Episode 7: 17.0\n",
      "Episode 8: 23.0\n",
      "Episode 9: 11.0\n",
      "Episode 10: 12.0\n",
      "Episode 11: 13.0\n",
      "Episode 12: 22.0\n",
      "Episode 13: 10.0\n",
      "Episode 14: 15.0\n",
      "Episode 15: 15.0\n",
      "Episode 16: 13.0\n",
      "Episode 17: 12.0\n",
      "Episode 18: 12.0\n",
      "Episode 19: 32.0\n",
      "Episode 20: 97.0\n",
      "Episode 21: 97.0\n",
      "Episode 22: 89.0\n",
      "Episode 23: 89.0\n",
      "Episode 24: 96.0\n",
      "Episode 25: 101.0\n",
      "Episode 26: 95.0\n",
      "Episode 27: 95.0\n",
      "Episode 28: 93.0\n",
      "Episode 29: 87.0\n",
      "Episode 30: 108.0\n",
      "Episode 31: 94.0\n",
      "Episode 32: 100.0\n",
      "Episode 33: 108.0\n",
      "Episode 34: 106.0\n",
      "Episode 35: 102.0\n",
      "Episode 36: 120.0\n",
      "Episode 37: 100.0\n",
      "Episode 38: 113.0\n",
      "Episode 39: 110.0\n",
      "Episode 40: 108.0\n",
      "Episode 41: 100.0\n",
      "Episode 42: 122.0\n",
      "Episode 43: 102.0\n",
      "Episode 44: 132.0\n",
      "Episode 45: 106.0\n",
      "Episode 46: 122.0\n",
      "Episode 47: 113.0\n",
      "Episode 48: 127.0\n",
      "Episode 49: 111.0\n",
      "Episode 50: 96.0\n",
      "Episode 51: 110.0\n",
      "Episode 52: 119.0\n",
      "Episode 53: 121.0\n",
      "Episode 54: 119.0\n",
      "Episode 55: 129.0\n",
      "Episode 56: 141.0\n",
      "Episode 57: 150.0\n",
      "Episode 58: 145.0\n",
      "Episode 59: 137.0\n",
      "Episode 60: 146.0\n",
      "Episode 61: 147.0\n",
      "Episode 62: 156.0\n",
      "Episode 63: 153.0\n",
      "Episode 64: 135.0\n",
      "Episode 65: 135.0\n",
      "Episode 66: 142.0\n",
      "Episode 67: 145.0\n",
      "Episode 68: 148.0\n",
      "Episode 69: 140.0\n",
      "Episode 70: 152.0\n",
      "Episode 71: 140.0\n",
      "Episode 72: 186.0\n",
      "Episode 73: 174.0\n",
      "Episode 74: 167.0\n",
      "Episode 75: 163.0\n",
      "Episode 76: 182.0\n",
      "Episode 77: 157.0\n",
      "Episode 78: 186.0\n",
      "Episode 79: 171.0\n",
      "Episode 80: 155.0\n",
      "Episode 81: 164.0\n",
      "Episode 82: 172.0\n",
      "Episode 83: 162.0\n",
      "Episode 84: 156.0\n",
      "Episode 85: 165.0\n",
      "Episode 86: 182.0\n",
      "Episode 87: 156.0\n",
      "Episode 88: 156.0\n",
      "Episode 89: 155.0\n",
      "Episode 90: 173.0\n",
      "Episode 91: 168.0\n",
      "Episode 92: 154.0\n",
      "Episode 93: 172.0\n",
      "Episode 94: 181.0\n",
      "Episode 95: 176.0\n",
      "Episode 96: 168.0\n",
      "Episode 97: 153.0\n",
      "Episode 98: 177.0\n",
      "Episode 99: 184.0\n"
     ]
    }
   ],
   "source": [
    "import gym\n",
    "env = gym.make(\"CartPole-v1\")\n",
    "agent = PPOAgent(env)\n",
    "history = agent.train(max_episodes=100)"
   ]
  },
  {
   "cell_type": "code",
   "execution_count": 12,
   "metadata": {},
   "outputs": [
    {
     "data": {
      "image/png": "[encoded data removed]",
      "text/plain": [
       "<Figure size 432x288 with 1 Axes>"
      ]
     },
     "metadata": {
      "needs_background": "light"
     },
     "output_type": "display_data"
    }
   ],
   "source": [
    "import matplotlib.pyplot as plt\n",
    "import pandas as pd\n",
    "\n",
    "plt.plot(history)\n",
    "plt.plot(pd.Series(history).rolling(5).mean())\n",
    "plt.show()"
   ]
  },
  {
   "cell_type": "code",
   "execution_count": 7,
   "metadata": {},
   "outputs": [
    {
     "data": {
      "text/plain": [
       "[<matplotlib.lines.Line2D at 0x1fade0cb208>]"
      ]
     },
     "execution_count": 7,
     "metadata": {},
     "output_type": "execute_result"
    },
    {
     "data": {
      "image/png": "[encoded data removed]",
      "text/plain": [
       "<Figure size 432x288 with 1 Axes>"
      ]
     },
     "metadata": {
      "needs_background": "light"
     },
     "output_type": "display_data"
    }
   ],
   "source": [
    "plt.plot(agent.recorder['v_loss'])"
   ]
  },
  {
   "cell_type": "code",
   "execution_count": 8,
   "metadata": {},
   "outputs": [
    {
     "data": {
      "text/plain": [
       "[<matplotlib.lines.Line2D at 0x1fade36c188>]"
      ]
     },
     "execution_count": 8,
     "metadata": {},
     "output_type": "execute_result"
    },
    {
     "data": {
      "image/png": "[encoded data removed]",
      "text/plain": [
       "<Figure size 432x288 with 1 Axes>"
      ]
     },
     "metadata": {
      "needs_background": "light"
     },
     "output_type": "display_data"
    }
   ],
   "source": [
    "plt.plot(agent.recorder['a_loss'])"
   ]
  },
  {
   "cell_type": "code",
   "execution_count": 9,
   "metadata": {},
   "outputs": [
    {
     "data": {
      "text/plain": [
       "[<matplotlib.lines.Line2D at 0x1fade0d8308>]"
      ]
     },
     "execution_count": 9,
     "metadata": {},
     "output_type": "execute_result"
    },
    {
     "data": {
      "image/png": "[encoded data removed]",
      "text/plain": [
       "<Figure size 432x288 with 1 Axes>"
      ]
     },
     "metadata": {
      "needs_background": "light"
     },
     "output_type": "display_data"
    }
   ],
   "source": [
    "plt.plot(np.array(agent.recorder['ratio']).mean(axis=1))"
   ]
  },
  {
   "cell_type": "code",
   "execution_count": null,
   "metadata": {},
   "outputs": [],
   "source": []
  }
 ],
 "metadata": {
  "kernelspec": {
   "display_name": "Python 3",
   "language": "python",
   "name": "python3"
  },
  "language_info": {
   "codemirror_mode": {
    "name": "ipython",
    "version": 3
   },
   "file_extension": ".py",
   "mimetype": "text/x-python",
   "name": "python",
   "nbconvert_exporter": "python",
   "pygments_lexer": "ipython3",
   "version": "3.7.4"
  }
 },
 "nbformat": 4,
 "nbformat_minor": 2
}
