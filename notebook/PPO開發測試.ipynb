{
 "cells": [
  {
   "cell_type": "code",
   "execution_count": 1,
   "metadata": {},
   "outputs": [],
   "source": [
    "import torch\n",
    "from torch import nn\n",
    "from torch.nn import functional as F\n",
    "from torch.distributions import Categorical\n",
    "from torch import optim\n",
    "from torch import nn\n",
    "from collections import deque\n",
    "import numpy as np\n",
    "import random\n",
    "import warnings \n",
    "warnings.simplefilter('ignore')"
   ]
  },
  {
   "cell_type": "markdown",
   "metadata": {},
   "source": [
    "# model"
   ]
  },
  {
   "cell_type": "code",
   "execution_count": 2,
   "metadata": {},
   "outputs": [],
   "source": [
    "class critic(nn.Module):\n",
    "    def __init__(self, input_dim):# state -> value\n",
    "        super(critic, self).__init__()\n",
    "        self.fc1 = nn.Linear(input_dim,128)\n",
    "        self.fc2 = nn.Linear(128,1) \n",
    "\n",
    "    def forward(self, state):\n",
    "        value = F.relu(self.fc1(state))\n",
    "        value = self.fc2(value)\n",
    "        return value\n",
    "\n",
    "class actor(nn.Module):\n",
    "    def __init__(self, input_dim, output_dim):# state -> action_probs\n",
    "        super(actor, self).__init__()\n",
    "        self.fc1 = nn.Linear(input_dim,128)\n",
    "        self.fc2 = nn.Linear(128, output_dim)\n",
    "    \n",
    "    def forward(self, state):\n",
    "        logits = F.relu(self.fc1(state))\n",
    "        logits = F.sigmoid(self.fc2(logits))\n",
    "        return F.softmax(logits*10,dim=-1)"
   ]
  },
  {
   "cell_type": "markdown",
   "metadata": {},
   "source": [
    "# utils"
   ]
  },
  {
   "cell_type": "code",
   "execution_count": 3,
   "metadata": {},
   "outputs": [],
   "source": [
    "class BasicBuffer:\n",
    "\n",
    "    def __init__(self, max_size):\n",
    "        self.max_size = int(max_size)\n",
    "        self.buffer = deque(maxlen=int(max_size))\n",
    "\n",
    "    def push(self, state, action, reward, next_state, done):\n",
    "        experience = (state, action, np.array([reward]), next_state, done)\n",
    "        self.buffer.append(experience)\n",
    "\n",
    "    def sample(self, batch_size):\n",
    "        state_batch = []\n",
    "        action_batch = []\n",
    "        reward_batch = []\n",
    "        next_state_batch = []\n",
    "        done_batch = []\n",
    "\n",
    "        batch = random.sample(self.buffer, batch_size)\n",
    "\n",
    "        for experience in batch:\n",
    "            state, action, reward, next_state, done = experience\n",
    "            state_batch.append(state)\n",
    "            action_batch.append(action)\n",
    "            reward_batch.append(reward)\n",
    "            next_state_batch.append(next_state)\n",
    "            done_batch.append(done)\n",
    "\n",
    "        return (state_batch, action_batch, reward_batch, next_state_batch, done_batch)\n",
    "\n",
    "    def __len__(self):\n",
    "        return len(self.buffer)"
   ]
  },
  {
   "cell_type": "markdown",
   "metadata": {},
   "source": [
    "# agent"
   ]
  },
  {
   "cell_type": "code",
   "execution_count": 4,
   "metadata": {},
   "outputs": [],
   "source": [
    "class PPOAgent:\n",
    "    def __init__(self,env,gamma=0.99,lr=1e-3,clip=0.2,K_epoch=4,buffer_maxsize=10000):\n",
    "        self.device = \"cpu\"\n",
    "        \n",
    "        # env\n",
    "        self.env = env\n",
    "        self.obs_dim = env.observation_space.shape[0]\n",
    "        self.action_dim = env.action_space.n\n",
    "        \n",
    "        # Hyperparamters\n",
    "        self.gamma = gamma\n",
    "        self.lr = lr\n",
    "        self.clip = clip\n",
    "        self.K_epoch = K_epoch\n",
    "        \n",
    "        # critic\n",
    "        self.critic = critic(self.obs_dim)\n",
    "        self.critic.apply(self._weights_init)\n",
    "        \n",
    "        # actor_new\n",
    "        self.actor_new = actor(self.obs_dim,self.action_dim)\n",
    "        self.actor_new.apply(self._weights_init)\n",
    "        \n",
    "        # actor_old\n",
    "        self.actor_old = actor(self.obs_dim,self.action_dim)\n",
    "        self.sync()\n",
    "        \n",
    "        # opt\n",
    "        self.actor_optimizer = optim.Adam(self.actor_new.parameters(),lr=lr)\n",
    "        self.critic_optimizer = optim.Adam(self.critic.parameters(),lr=lr)\n",
    "        \n",
    "        # buffer\n",
    "        self.replay_buffer = BasicBuffer(max_size=buffer_maxsize)\n",
    "        \n",
    "        # recorder\n",
    "        self.recorder = {'a_loss':[],\n",
    "                         'v_loss':[],\n",
    "                         'ratio':[]}\n",
    "            \n",
    "    @staticmethod\n",
    "    def _weights_init(m):\n",
    "        if isinstance(m, nn.Conv2d):\n",
    "            nn.init.xavier_uniform_(m.weight)\n",
    "            nn.init.constant_(m.bias, 0.1)\n",
    "    \n",
    "    def sync(self):\n",
    "        for old_param, new_param in zip(self.actor_old.parameters(),self.actor_new.parameters()):\n",
    "            old_param.data.copy_(new_param.data)\n",
    "\n",
    "    def get_action(self, state):\n",
    "        state = torch.FloatTensor(state).to(self.device)\n",
    "        probs = self.actor_new.forward(state) # softmax_probs\n",
    "        dist = Categorical(probs) # Categorical distribution\n",
    "        act = dist.sample() # smaple action from Categorical distribution\n",
    "        return act.detach().item()\n",
    "\n",
    "    def get_value(state):\n",
    "        state = torch.FloatTensor(state).to(self.device)\n",
    "        value = self.critic(state)\n",
    "        return value.item()\n",
    "\n",
    "    def update(self,batch_size=64):\n",
    "        for k in range(self.K_epoch):\n",
    "            \n",
    "            # sample mini_batch_data from replay_buffer\n",
    "            s,a,r,s_,d = self.replay_buffer.sample(batch_size)\n",
    "            s = torch.FloatTensor(s).to(self.device)\n",
    "            a = torch.LongTensor(a).to(self.device).unsqueeze(dim=1)\n",
    "            r = torch.FloatTensor(r).to(self.device)\n",
    "            s_ = torch.FloatTensor(s_).to(self.device)\n",
    "            d = torch.FloatTensor(d).to(self.device).unsqueeze(dim=1)\n",
    "            \n",
    "            # critic loss\n",
    "            v_target = r + self.gamma*self.critic(s_)*(1-d)\n",
    "            v_current = self.critic(s)\n",
    "            adv =  v_target - v_current\n",
    "            v_loss = (adv**2).mean()\n",
    "            self.recorder['v_loss'].append(v_loss.item())\n",
    "            \n",
    "            # actor loss\n",
    "            new_logp = torch.gather(self.actor_new(s).log(),1,a)\n",
    "            old_logp = torch.gather(self.actor_old(s).log(),1,a)\n",
    "            ratio = torch.exp(new_logp - old_logp)\n",
    "            self.recorder['ratio'].append(ratio.detach().numpy())\n",
    "            surr1 = ratio*adv.detach()\n",
    "            surr2 = torch.clamp(ratio,1-self.clip,1+self.clip)*adv.detach()\n",
    "            a_loss = -torch.min(surr1,surr2).mean()\n",
    "            self.recorder['a_loss'].append(a_loss.item())\n",
    "            \n",
    "            # update critic\n",
    "            self.critic_optimizer.zero_grad()\n",
    "            v_loss.backward()\n",
    "            self.critic_optimizer.step()\n",
    "            \n",
    "            # update actor\n",
    "            self.actor_optimizer.zero_grad()\n",
    "            a_loss.backward()\n",
    "            self.actor_optimizer.step()\n",
    "        \n",
    "        # sync\n",
    "        self.sync()\n",
    "            \n",
    "    def train(self, max_episodes=100,max_steps=10000, batch_size=256):\n",
    "        episode_rewards = []\n",
    "        for episode in range(max_episodes):\n",
    "            state = self.env.reset()\n",
    "            episode_reward = 0\n",
    "            for step in range(max_steps):\n",
    "                action = self.get_action([state])\n",
    "                next_state, reward, done, _ = self.env.step(action) \n",
    "                self.replay_buffer.push(state, action, reward, next_state, done)\n",
    "                episode_reward += reward\n",
    "                \n",
    "                if len(self.replay_buffer) >= batch_size:\n",
    "                    self.update(batch_size)\n",
    "                    \n",
    "                if done or step == max_steps-1:\n",
    "                    episode_rewards.append(episode_reward)\n",
    "                    print(\"Episode \" + str(episode) + \": \" + str(episode_reward))\n",
    "                    break\n",
    "                \n",
    "                state = next_state\n",
    "        \n",
    "        return episode_rewards"
   ]
  },
  {
   "cell_type": "code",
   "execution_count": 5,
   "metadata": {},
   "outputs": [
    {
     "name": "stdout",
     "output_type": "stream",
     "text": [
      "Episode 0: 16.0\n",
      "Episode 1: 20.0\n",
      "Episode 2: 12.0\n",
      "Episode 3: 20.0\n",
      "Episode 4: 9.0\n",
      "Episode 5: 8.0\n",
      "Episode 6: 13.0\n",
      "Episode 7: 12.0\n",
      "Episode 8: 11.0\n",
      "Episode 9: 15.0\n",
      "Episode 10: 16.0\n",
      "Episode 11: 12.0\n",
      "Episode 12: 10.0\n",
      "Episode 13: 11.0\n",
      "Episode 14: 10.0\n",
      "Episode 15: 13.0\n",
      "Episode 16: 19.0\n",
      "Episode 17: 13.0\n",
      "Episode 18: 9.0\n",
      "Episode 19: 14.0\n",
      "Episode 20: 59.0\n",
      "Episode 21: 53.0\n",
      "Episode 22: 12.0\n",
      "Episode 23: 9.0\n",
      "Episode 24: 63.0\n",
      "Episode 25: 32.0\n",
      "Episode 26: 133.0\n",
      "Episode 27: 193.0\n",
      "Episode 28: 198.0\n",
      "Episode 29: 100.0\n",
      "Episode 30: 136.0\n",
      "Episode 31: 173.0\n",
      "Episode 32: 164.0\n",
      "Episode 33: 157.0\n",
      "Episode 34: 201.0\n",
      "Episode 35: 131.0\n",
      "Episode 36: 142.0\n",
      "Episode 37: 170.0\n",
      "Episode 38: 123.0\n",
      "Episode 39: 115.0\n",
      "Episode 40: 334.0\n",
      "Episode 41: 165.0\n",
      "Episode 42: 238.0\n",
      "Episode 43: 117.0\n",
      "Episode 44: 146.0\n",
      "Episode 45: 201.0\n",
      "Episode 46: 148.0\n",
      "Episode 47: 231.0\n",
      "Episode 48: 255.0\n",
      "Episode 49: 126.0\n",
      "Episode 50: 156.0\n",
      "Episode 51: 237.0\n",
      "Episode 52: 165.0\n",
      "Episode 53: 191.0\n",
      "Episode 54: 175.0\n",
      "Episode 55: 148.0\n",
      "Episode 56: 110.0\n",
      "Episode 57: 195.0\n",
      "Episode 58: 107.0\n",
      "Episode 59: 203.0\n",
      "Episode 60: 138.0\n",
      "Episode 61: 176.0\n",
      "Episode 62: 265.0\n",
      "Episode 63: 135.0\n",
      "Episode 64: 242.0\n",
      "Episode 65: 180.0\n",
      "Episode 66: 202.0\n",
      "Episode 67: 179.0\n",
      "Episode 68: 203.0\n",
      "Episode 69: 126.0\n",
      "Episode 70: 165.0\n",
      "Episode 71: 168.0\n",
      "Episode 72: 114.0\n",
      "Episode 73: 223.0\n",
      "Episode 74: 281.0\n",
      "Episode 75: 252.0\n",
      "Episode 76: 212.0\n",
      "Episode 77: 142.0\n",
      "Episode 78: 222.0\n",
      "Episode 79: 276.0\n",
      "Episode 80: 102.0\n",
      "Episode 81: 261.0\n",
      "Episode 82: 112.0\n",
      "Episode 83: 128.0\n",
      "Episode 84: 238.0\n",
      "Episode 85: 166.0\n",
      "Episode 86: 176.0\n",
      "Episode 87: 177.0\n",
      "Episode 88: 203.0\n",
      "Episode 89: 263.0\n",
      "Episode 90: 500.0\n",
      "Episode 91: 152.0\n",
      "Episode 92: 230.0\n",
      "Episode 93: 330.0\n",
      "Episode 94: 223.0\n",
      "Episode 95: 443.0\n",
      "Episode 96: 192.0\n",
      "Episode 97: 219.0\n",
      "Episode 98: 500.0\n",
      "Episode 99: 188.0\n"
     ]
    }
   ],
   "source": [
    "import gym\n",
    "env = gym.make(\"CartPole-v1\")\n",
    "agent = PPOAgent(env)\n",
    "history = agent.train(max_episodes=100)"
   ]
  },
  {
   "cell_type": "code",
   "execution_count": 9,
   "metadata": {},
   "outputs": [
    {
     "data": {
      "image/png": "[encoded data removed]",
      "text/plain": [
       "<Figure size 432x288 with 1 Axes>"
      ]
     },
     "metadata": {
      "needs_background": "light"
     },
     "output_type": "display_data"
    }
   ],
   "source": [
    "import matplotlib.pyplot as plt\n",
    "\n",
    "plt.plot(history)\n",
    "plt.show()"
   ]
  },
  {
   "cell_type": "code",
   "execution_count": 7,
   "metadata": {},
   "outputs": [
    {
     "data": {
      "text/plain": [
       "[<matplotlib.lines.Line2D at 0x19163a4fd88>]"
      ]
     },
     "execution_count": 7,
     "metadata": {},
     "output_type": "execute_result"
    },
    {
     "data": {
      "image/png": "[encoded data removed]",
      "text/plain": [
       "<Figure size 432x288 with 1 Axes>"
      ]
     },
     "metadata": {
      "needs_background": "light"
     },
     "output_type": "display_data"
    }
   ],
   "source": [
    "plt.plot(agent.recorder['v_loss'])"
   ]
  },
  {
   "cell_type": "code",
   "execution_count": 8,
   "metadata": {},
   "outputs": [
    {
     "data": {
      "text/plain": [
       "[<matplotlib.lines.Line2D at 0x19164ac1b08>]"
      ]
     },
     "execution_count": 8,
     "metadata": {},
     "output_type": "execute_result"
    },
    {
     "data": {
      "image/png": "[encoded data removed]",
      "text/plain": [
       "<Figure size 432x288 with 1 Axes>"
      ]
     },
     "metadata": {
      "needs_background": "light"
     },
     "output_type": "display_data"
    }
   ],
   "source": [
    "plt.plot(agent.recorder['a_loss'])"
   ]
  },
  {
   "cell_type": "code",
   "execution_count": 18,
   "metadata": {},
   "outputs": [
    {
     "data": {
      "text/plain": [
       "[<matplotlib.lines.Line2D at 0x191650960c8>]"
      ]
     },
     "execution_count": 18,
     "metadata": {},
     "output_type": "execute_result"
    },
    {
     "data": {
      "image/png": "[encoded data removed]",
      "text/plain": [
       "<Figure size 432x288 with 1 Axes>"
      ]
     },
     "metadata": {
      "needs_background": "light"
     },
     "output_type": "display_data"
    }
   ],
   "source": [
    "plt.plot(np.array(agent.recorder['ratio']).mean(axis=1))"
   ]
  },
  {
   "cell_type": "code",
   "execution_count": null,
   "metadata": {},
   "outputs": [],
   "source": []
  }
 ],
 "metadata": {
  "kernelspec": {
   "display_name": "Python 3",
   "language": "python",
   "name": "python3"
  },
  "language_info": {
   "codemirror_mode": {
    "name": "ipython",
    "version": 3
   },
   "file_extension": ".py",
   "mimetype": "text/x-python",
   "name": "python",
   "nbconvert_exporter": "python",
   "pygments_lexer": "ipython3",
   "version": "3.7.4"
  }
 },
 "nbformat": 4,
 "nbformat_minor": 2
}
